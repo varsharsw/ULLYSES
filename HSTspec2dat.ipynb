{
 "cells": [
  {
   "cell_type": "code",
   "execution_count": 1,
   "metadata": {},
   "outputs": [],
   "source": [
    "%matplotlib widget\n",
    "import numpy as np\n",
    "import matplotlib.pyplot as plt\n",
    "from astropy.io import fits\n",
    "from matplotlib.cbook import flatten\n",
    "import glob   \n",
    "import os\n",
    "import requests"
   ]
  },
  {
   "cell_type": "code",
   "execution_count": 2,
   "metadata": {},
   "outputs": [],
   "source": [
    "def fitstodat(fitsfile,filename):\n",
    "  sp=fits.open(fitsfile)\n",
    "  bintable=sp[1]\n",
    "  x=bintable.columns['WAVELENGTH']\n",
    "  y=bintable.columns['FLUX']\n",
    "  x.name\n",
    "  x.unit\n",
    "  xfactor=1\n",
    "  if x.unit=='nm' :\n",
    "      xfactor=10.0\n",
    "  y.name\n",
    "  y.unit\n",
    "  yfactor=0\n",
    "  if (y.unit.split(' ')[0].split('^')[0]=='10') :\n",
    "    yfactor=float(y.unit.split(' ')[0].split('^')[1])\n",
    "  yfactor=10**yfactor\n",
    "  \n",
    "  W=bintable.data[x.name].T *xfactor\n",
    "  F=bintable.data[y.name].T *yfactor\n",
    "\n",
    "  \n",
    "  concated= np.c_[np.hstack((W[2:-3,])),np.hstack((F[2:-3,]))]\n",
    "  sorted_array = concated[concated[:,0].argsort()]\n",
    "  np.savetxt(filename, sorted_array)\n",
    "    "
   ]
  },
  {
   "cell_type": "code",
   "execution_count": 3,
   "metadata": {},
   "outputs": [],
   "source": [
    "# filelist = [f for f in glob.glob(\"sk-67d101/hlsp*.fits\")]\n",
    "# l=len(filelist)\n",
    "\n",
    "# for i in range(0,l):\n",
    "#     fitstodat(filelist[i])    "
   ]
  },
  {
   "cell_type": "code",
   "execution_count": 4,
   "metadata": {},
   "outputs": [],
   "source": [
    "def target_filelist(target_name):   \n",
    "  api_url = 'https://mast.stsci.edu/search/ullyses/api/v0.1/search'\n",
    "  myobj = {\n",
    "    \"conditions\": [\n",
    "      {\n",
    "        \"target_name_std\": f\"{target_name}\"\n",
    "      }\n",
    "    ],\n",
    "    \"offset\": 0,\n",
    "    \"limit\": 250,\n",
    "    \"select_cols\": [ \"instrument\",\n",
    "      \"observation_id\"\n",
    "    ]\n",
    "  \n",
    "  }\n",
    "  \n",
    "  \n",
    "  response = requests.post(api_url,json=myobj)\n",
    "  # response.text\n",
    "  obs_id=response.json()[\"results\"][0][\"observation_id\"]\n",
    "  \n",
    "  data_url=f'https://mast.stsci.edu/search/ullyses/api/v0.1/list_products?dataset_ids={obs_id}'\n",
    "  \n",
    "  response = requests.get(data_url)\n",
    "  \n",
    "  product_list = response.json()['products']\n",
    "  uri_list = list(map(lambda product: product['uri'], product_list))\n",
    "  return uri_list"
   ]
  },
  {
   "cell_type": "code",
   "execution_count": 5,
   "metadata": {},
   "outputs": [
    {
     "data": {
      "text/plain": [
       "['mast:HLSP/ullyses/av377/dr5/hlsp_ullyses_fuse_fuv_av377_lwrs_dr5_cspec.fits',\n",
       " 'mast:HLSP/ullyses/av377/dr5/hlsp_ullyses_hst-fuse_fuse-cos_av377_uv_dr5_preview-spec.fits',\n",
       " 'mast:HLSP/ullyses/av377/dr5/hlsp_ullyses_hst_cos_av377_g130m-g160m_dr5_cspec.fits',\n",
       " 'mast:HLSP/ullyses/av377/dr5/hlsp_ullyses_hst_cos_av377_g130m_dr5_cspec.fits',\n",
       " 'mast:HLSP/ullyses/av377/dr5/hlsp_ullyses_hst_cos_av377_g160m_dr5_cspec.fits']"
      ]
     },
     "execution_count": 5,
     "metadata": {},
     "output_type": "execute_result"
    }
   ],
   "source": [
    "\n",
    "target_name='AV 377'\n",
    "target_filelist(target_name)\n",
    "\n"
   ]
  },
  {
   "cell_type": "code",
   "execution_count": 6,
   "metadata": {},
   "outputs": [],
   "source": [
    "data_file=target_filelist(target_name)[2]\n",
    "file_url = f'https://mast.stsci.edu/api/v0.1/Download/file?uri={data_file}'\n",
    "# spec_data=requests.get(file_url)\n",
    "filename=file_url.split('/')[-1].split('.')[0]+'.dat'\n",
    "fitstodat(file_url,filename)\n"
   ]
  },
  {
   "cell_type": "code",
   "execution_count": 7,
   "metadata": {},
   "outputs": [],
   "source": [
    "def smooth(y, box_pts):\n",
    "    box = np.ones(box_pts)/box_pts\n",
    "    y_smooth = np.convolve(y, box, mode='same')\n",
    "    return y_smooth"
   ]
  },
  {
   "cell_type": "code",
   "execution_count": 8,
   "metadata": {},
   "outputs": [
    {
     "data": {
      "application/vnd.jupyter.widget-view+json": {
       "model_id": "a8f910ee52c24092a42671c44222629e",
       "version_major": 2,
       "version_minor": 0
      },
      "text/plain": [
       "Canvas(toolbar=Toolbar(toolitems=[('Home', 'Reset original view', 'home', 'home'), ('Back', 'Back to previous …"
      ]
     },
     "metadata": {},
     "output_type": "display_data"
    },
    {
     "data": {
      "text/plain": [
       "Text(0, 0.5, 'Flux')"
      ]
     },
     "execution_count": 8,
     "metadata": {},
     "output_type": "execute_result"
    }
   ],
   "source": [
    "%matplotlib widget\n",
    "\n",
    "f=np.genfromtxt(filename)\n",
    "W=f[:,0]\n",
    "F=f[:,1]\n",
    "plt.plot(W,smooth(F,5))\n",
    "plt.xlabel('Wavelength')\n",
    "plt.ylabel('Flux') \n",
    "# plt.ylim(-10**-13,5*10**-12)\n"
   ]
  },
  {
   "cell_type": "code",
   "execution_count": 9,
   "metadata": {},
   "outputs": [],
   "source": [
    "def velocity(row,line):\n",
    "    c=3e5\n",
    "    v=c*(row-line)/line\n",
    "    return v"
   ]
  },
  {
   "cell_type": "code",
   "execution_count": 10,
   "metadata": {},
   "outputs": [],
   "source": [
    "def slice(W,F,w,dw):\n",
    "    x=[]\n",
    "    y=[]\n",
    "    for i in range(0,len(W)):\n",
    "        if W[i]>=(w-dw) and W[i]<=(w+dw):\n",
    "            x.append(W[i])\n",
    "            y.append(F[i])\n",
    "    return x,y"
   ]
  },
  {
   "cell_type": "code",
   "execution_count": 11,
   "metadata": {},
   "outputs": [
    {
     "data": {
      "application/vnd.jupyter.widget-view+json": {
       "model_id": "9df2653c03e74bdda92b691a19738cca",
       "version_major": 2,
       "version_minor": 0
      },
      "text/plain": [
       "Canvas(toolbar=Toolbar(toolitems=[('Home', 'Reset original view', 'home', 'home'), ('Back', 'Back to previous …"
      ]
     },
     "metadata": {},
     "output_type": "display_data"
    },
    {
     "data": {
      "text/plain": [
       "[<matplotlib.lines.Line2D at 0x1fa645ad048>]"
      ]
     },
     "execution_count": 11,
     "metadata": {},
     "output_type": "execute_result"
    }
   ],
   "source": [
    "%matplotlib widget\n",
    "\n",
    "f=np.genfromtxt(filename)\n",
    "W=f[:,0]\n",
    "F=f[:,1]\n",
    "\n",
    "plt.subplot(221)\n",
    "w=1239\n",
    "dw=18\n",
    "line=1238.81\n",
    "w,f=slice(W,smooth(F,1),w,dw)\n",
    "vel=velocity(np.array(w),line)\n",
    "plt.plot(vel,f)\n",
    "\n",
    "plt.subplot(222)\n",
    "w=1393\n",
    "dw=18\n",
    "line=1393\n",
    "w,f=slice(W,smooth(F,1),w,dw)\n",
    "vel=velocity(np.array(w),line)\n",
    "plt.plot(vel,f)\n",
    "\n",
    "plt.subplot(223)\n",
    "w=1548\n",
    "dw=19\n",
    "line=1548\n",
    "w,f=slice(W,smooth(F,1),w,dw)\n",
    "vel=velocity(np.array(w),line)\n",
    "plt.plot(vel,f)\n",
    "\n",
    "plt.subplot(224)\n",
    "w=1720\n",
    "dw=18\n",
    "line=1720\n",
    "w,f=slice(W,smooth(F,1),w,dw)\n",
    "vel=velocity(np.array(w),line)\n",
    "plt.plot(vel,f)\n",
    "\n",
    "\n",
    " "
   ]
  },
  {
   "cell_type": "code",
   "execution_count": null,
   "metadata": {},
   "outputs": [],
   "source": []
  }
 ],
 "metadata": {
  "kernelspec": {
   "display_name": "Python 3",
   "language": "python",
   "name": "python3"
  },
  "language_info": {
   "codemirror_mode": {
    "name": "ipython",
    "version": 3
   },
   "file_extension": ".py",
   "mimetype": "text/x-python",
   "name": "python",
   "nbconvert_exporter": "python",
   "pygments_lexer": "ipython3",
   "version": "3.7.4"
  }
 },
 "nbformat": 4,
 "nbformat_minor": 4
}
